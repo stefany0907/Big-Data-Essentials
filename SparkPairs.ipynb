{
 "cells": [
  {
   "cell_type": "markdown",
   "metadata": {},
   "source": [
    "# Spark assignment 1: Pairs"
   ]
  },
  {
   "cell_type": "markdown",
   "metadata": {},
   "source": [
    "Find all the pairs of two consequent words where the first word is “narodnaya”. For each pair, count the number of occurrences in the Wikipedia dump. Print all the pairs with their count in a lexicographical order. Output format is “word_pair\n",
    "\n",
    "    red_apple 100500\n",
    "    crazy_zoo 42\n",
    "\n",
    "Note that two words in a pair are concatenated with the underscore character, and the result is in the lowercase.\n",
    "\n",
    "One motivation for counting these continuations is to get a better understanding of the language. Some words, like “the”, have a lot of continuations, while others, like “San”, have just a few (“San Francisco”, for example). One can build a language model with these statistics. If you are interested to learn more, search for “n-gram language model” in the Internet.\n",
    "\n",
    "The result on the sample dataset:\n",
    "\n",
    "    narodnaya_gazeta    1\n",
    "    narodnaya_volya 9\n",
    "\n",
    "If you want to deploy the environment on your own machine, please use bigdatateam/spark-course1 Docker container."
   ]
  },
  {
   "cell_type": "code",
   "execution_count": null,
   "metadata": {},
   "outputs": [
    {
     "name": "stdout",
     "output_type": "stream",
     "text": [
      "narodnayagazeta\t1\n",
      "narodnayavolya\t9\n"
     ]
    }
   ],
   "source": [
    "from pyspark import SparkConf, SparkContext\n",
    "sc = SparkContext(conf=SparkConf().setAppName(\"MyApp\").setMaster(\"local\"))\n",
    "\n",
    "import re\n",
    "\n",
    "def parse_article(line):\n",
    "    try:\n",
    "        article_id, text = unicode(line.rstrip()).split('\\t', 1)\n",
    "        text = re.sub(\"^\\W+|\\W+$\", \"\", text, flags=re.UNICODE)\n",
    "        words = re.split(\"\\W*\\s+\\W*\", text, flags=re.UNICODE)\n",
    "        return words\n",
    "    except ValueError as e:\n",
    "        return []\n",
    "\n",
    "def pairs(words):   \n",
    "    pair = []\n",
    "    for word1, word2 in zip(words[:-1], words[1:]):\n",
    "        pair.append((word1.lower() + _ + word2.lower(), 1))\n",
    "    return pair\n",
    "    \n",
    "\n",
    "wiki = (sc.textFile(\"/data/wiki/en_articles_part/articles-part\", 16)\n",
    "        .map(parse_article)\n",
    "        .flatMap(pairs)\n",
    "        .reduceByKey(lambda x,y : x+y)\n",
    "        .filter(lambda value: value[0][:9] == \"narodnaya\")\n",
    "       ).collect()\n",
    "#result = wiki.take(1)[0]\n",
    "for key, count in wiki:\n",
    "    print(\"%s\\t%d\" % (key, count))"
   ]
  },
  {
   "cell_type": "code",
   "execution_count": 2,
   "metadata": {},
   "outputs": [
    {
     "name": "stdout",
     "output_type": "stream",
     "text": [
      "Anarchism\n",
      "Anarchism\n",
      "is\n",
      "often\n",
      "defined\n",
      "as\n",
      "a\n",
      "political\n",
      "philosophy\n",
      "which\n",
      "holds\n",
      "the\n",
      "state\n",
      "to\n",
      "be\n",
      "undesirable\n",
      "unnecessary\n",
      "or\n",
      "harmful\n",
      "The\n",
      "following\n",
      "sources\n",
      "cite\n",
      "anarchism\n",
      "as\n",
      "a\n",
      "political\n",
      "philosophy\n",
      "Slevin\n",
      "Carl\n",
      "Anarchism\n",
      "The\n",
      "Concise\n",
      "Oxford\n",
      "Dictionary\n",
      "of\n",
      "Politics\n",
      "Ed\n",
      "Iain\n",
      "McLean\n",
      "and\n",
      "Alistair\n",
      "McMillan\n",
      "Oxford\n",
      "University\n",
      "Press\n",
      "2003\n",
      "However\n",
      "others\n",
      "argue\n"
     ]
    }
   ],
   "source": [
    "for word in result[:50]:\n",
    "    print word"
   ]
  },
  {
   "cell_type": "code",
   "execution_count": null,
   "metadata": {
    "collapsed": true
   },
   "outputs": [],
   "source": []
  }
 ],
 "metadata": {
  "kernelspec": {
   "display_name": "Python 2",
   "language": "python",
   "name": "python2"
  },
  "language_info": {
   "codemirror_mode": {
    "name": "ipython",
    "version": 2
   },
   "file_extension": ".py",
   "mimetype": "text/x-python",
   "name": "python",
   "nbconvert_exporter": "python",
   "pygments_lexer": "ipython2",
   "version": "2.7.12"
  }
 },
 "nbformat": 4,
 "nbformat_minor": 2
}
