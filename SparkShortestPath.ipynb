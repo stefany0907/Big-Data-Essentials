{
 "cells": [
  {
   "cell_type": "markdown",
   "metadata": {},
   "source": [
    "# Reconstructing the path\n",
    "In this assignment you will use Spark to compute the shortest path between two vertices. In the video, you have learned how to compute the distances between a source vertex and all other vertices in a graph. Now, your task is to reconstruct the shortest path, that is a sequence of vertices connected by the edges.\n",
    "\n",
    "Dataset location: /data/twitter/twitter_sample_small.txt\n",
    "\n",
    "Format: user_id \\t follower_id\n",
    "\n",
    "You can start with the code described in \"Starter...\" (see the next self-reading).\n",
    "\n",
    "Your task is to find the shortest path between vertices 12 and 34. In case of multiple shortest paths (that is, disjoint paths with the same length), any will suffice. Output format is the sequence of vertices, delimited by __a comma, without spaces.__ For example, the path “12 -> 42 -> 34” should be printed as:\n",
    "\n",
    "    12,42,34\n",
    "\n",
    "_Hint: before submitting, check your stopping criteria. In BFS, the search was exhaustive, and in this task your program may terminate earlier, thus saving some precious time._\n",
    "\n",
    "The result on the sample dataset:\n",
    "\n",
    "    12,422,53,52,107,20,23,274,34\n",
    "\n",
    "If you want to deploy the environment on your own machine, please use [bigdatateam/spark-course1](https://hub.docker.com/r/bigdatateam/spark-course1/) Docker container."
   ]
  },
  {
   "cell_type": "code",
   "execution_count": 11,
   "metadata": {},
   "outputs": [
    {
     "name": "stdout",
     "output_type": "stream",
     "text": [
      "422\t12\n",
      "53\t422\n",
      "31\t53\n"
     ]
    }
   ],
   "source": [
    "!cat \"/data/twitter/twitter_sample_small.txt\" | awk '/422\\t12/'\n",
    "!cat \"/data/twitter/twitter_sample_small.txt\" | awk '/53\\t422/'\n",
    "!cat \"/data/twitter/twitter_sample_small.txt\" | awk '/31\\t53/'"
   ]
  },
  {
   "cell_type": "code",
   "execution_count": 2,
   "metadata": {},
   "outputs": [],
   "source": [
    "#! /usr/bin/env python\n",
    "\n",
    "from pyspark import SparkConf, SparkContext\n",
    "sc = SparkContext(conf=SparkConf().setAppName(\"MyApp\").setMaster(\"local[2]\"))\n",
    "\n",
    "import re"
   ]
  },
  {
   "cell_type": "code",
   "execution_count": 3,
   "metadata": {},
   "outputs": [],
   "source": [
    "n = 100\n",
    "start = 12\n",
    "\n",
    "def parse_edge(s):\n",
    "    user, follower = s.split(\"\\t\")\n",
    "    return (int(user), int(follower))\n",
    "\n",
    "def step(item):\n",
    "    # Add one move along the graph\n",
    "    prev_v, prev_d, next_v = item[0], item[1][0], item[1][1]\n",
    "    # cast next_v to [next_v] and append to the paths\n",
    "    return (next_v, prev_d + [next_v])\n",
    "\n",
    "edges = sc.textFile(\"/data/twitter/twitter_sample_small.txt\").map(parse_edge).cache()\n",
    "forward_edges = edges.map(lambda e: (e[1], e[0])).partitionBy(n).persist()\n",
    "# construct paths for (start, [start, node1, node2...])\n"
   ]
  },
  {
   "cell_type": "code",
   "execution_count": 12,
   "metadata": {},
   "outputs": [
    {
     "name": "stdout",
     "output_type": "stream",
     "text": [
      "[(12, 2241), (12, 13349), (12, 41873), (12, 82473), (12, 414853)]\n",
      "[(16447200, 12), (16929600, 12), (17204700, 12), (17981800, 12), (19177100, 12)]\n",
      "[(53, [12, 422, 53])]\n",
      "[(53, ([12, 422, 53], 31))]\n",
      "[(31, [12, 422, 53, 31])]\n"
     ]
    }
   ],
   "source": [
    "print edges.take(5)\n",
    "print forward_edges.take(5)\n",
    "print paths.take(1)\n",
    "print paths.join(forward_edges, n).take(1)\n",
    "print paths.join(forward_edges, n).map(step).take(1)"
   ]
  },
  {
   "cell_type": "code",
   "execution_count": 13,
   "metadata": {},
   "outputs": [
    {
     "name": "stdout",
     "output_type": "stream",
     "text": [
      "[(12, [12])] 0\n",
      "[(126, [12, 126]), (380, [12, 380]), (422, [12, 422]), (648, [12, 648])] 0\n",
      "[(53, [12, 422, 53])] 0\n",
      "[(31, [12, 422, 53, 31]), (52, [12, 422, 53, 52]), (57, [12, 422, 53, 57]), (150, [12, 422, 53, 150]), (187, [12, 422, 53, 187]), (292, [12, 422, 53, 292]), (652, [12, 422, 53, 652])] 0\n",
      "[(13, [12, 422, 53, 31, 13]), (107, [12, 422, 53, 52, 107])] 0\n",
      "[(15, [12, 422, 53, 52, 107, 15]), (20, [12, 422, 53, 52, 107, 20]), (586, [12, 422, 53, 52, 107, 586])] 0\n",
      "[(23, [12, 422, 53, 52, 107, 20, 23]), (87, [12, 422, 53, 52, 107, 20, 87]), (292, [12, 422, 53, 52, 107, 20, 292]), (295, [12, 422, 53, 52, 107, 20, 295]), (107, [12, 422, 53, 52, 107, 586, 107])] 0\n",
      "[(15, [12, 422, 53, 52, 107, 586, 107, 15]), (20, [12, 422, 53, 52, 107, 586, 107, 20]), (586, [12, 422, 53, 52, 107, 586, 107, 586]), (16, [12, 422, 53, 52, 107, 20, 23, 16]), (38, [12, 422, 53, 52, 107, 20, 23, 38]), (274, [12, 422, 53, 52, 107, 20, 23, 274]), (64, [12, 422, 53, 52, 107, 20, 87, 64])] 0\n",
      "[(23, [12, 422, 53, 52, 107, 586, 107, 20, 23]), (87, [12, 422, 53, 52, 107, 586, 107, 20, 87]), (292, [12, 422, 53, 52, 107, 586, 107, 20, 292]), (295, [12, 422, 53, 52, 107, 586, 107, 20, 295]), (17, [12, 422, 53, 52, 107, 20, 23, 274, 17]), (34, [12, 422, 53, 52, 107, 20, 23, 274, 34]), (107, [12, 422, 53, 52, 107, 586, 107, 586, 107])] 1\n"
     ]
    },
    {
     "data": {
      "text/plain": [
       "PythonRDD[320] at collect at <ipython-input-13-7b9209de030c>:4"
      ]
     },
     "execution_count": 13,
     "metadata": {},
     "output_type": "execute_result"
    }
   ],
   "source": [
    "end = 34\n",
    "paths = sc.parallelize([(start, [start])]).partitionBy(n)\n",
    "def found():\n",
    "    print paths.collect(), paths.filter(lambda x: x[0] == end).count()\n",
    "    return paths.filter(lambda x: x[0] == end).count()\n",
    "\n",
    "while not found():\n",
    "    paths = paths.join(forward_edges, n).map(step)\n",
    "    \n",
    "paths.cache()"
   ]
  },
  {
   "cell_type": "code",
   "execution_count": 18,
   "metadata": {},
   "outputs": [
    {
     "name": "stdout",
     "output_type": "stream",
     "text": [
      "[(23, [12, 422, 53, 52, 107, 586, 107, 20, 23]), (87, [12, 422, 53, 52, 107, 586, 107, 20, 87]), (292, [12, 422, 53, 52, 107, 586, 107, 20, 292]), (295, [12, 422, 53, 52, 107, 586, 107, 20, 295]), (17, [12, 422, 53, 52, 107, 20, 23, 274, 17]), (34, [12, 422, 53, 52, 107, 20, 23, 274, 34]), (107, [12, 422, 53, 52, 107, 586, 107, 586, 107])]\n"
     ]
    }
   ],
   "source": [
    "print paths.collect()"
   ]
  },
  {
   "cell_type": "code",
   "execution_count": 19,
   "metadata": {},
   "outputs": [
    {
     "name": "stdout",
     "output_type": "stream",
     "text": [
      "[[12, 422, 53, 52, 107, 20, 23, 274, 34]]\n"
     ]
    }
   ],
   "source": [
    "result = (paths\n",
    "         .filter(lambda value: value[0] == end)\n",
    "         .map(lambda value: value[1])\n",
    "        ).cache()\n",
    "print result.collect()"
   ]
  },
  {
   "cell_type": "code",
   "execution_count": 14,
   "metadata": {},
   "outputs": [],
   "source": [
    "# while True:\n",
    "#     candidates = distances.join(forward_edges, n).map(step).persist()\n",
    "#     new_distances = distances.fullOuterJoin(candidates, n).map(complete, True).persist()\n",
    "#     target = new_distances.filter(lambda x: x[0] == end)\n",
    "#     if target.count() > 0:\n",
    "#         print target.take(5)\n",
    "#         spath = target.collect()[0][1]\n",
    "#         break  \n",
    "    \n",
    "#     count = new_distances.filter(lambda i: i[1] == d + 1).count()\n",
    "#     if count > 0:\n",
    "#         d += 1\n",
    "#         distances = new_distances\n",
    "#     else:\n",
    "#         break"
   ]
  },
  {
   "cell_type": "code",
   "execution_count": null,
   "metadata": {},
   "outputs": [],
   "source": []
  }
 ],
 "metadata": {
  "kernelspec": {
   "display_name": "Python 2",
   "language": "python",
   "name": "python2"
  },
  "language_info": {
   "codemirror_mode": {
    "name": "ipython",
    "version": 2
   },
   "file_extension": ".py",
   "mimetype": "text/x-python",
   "name": "python",
   "nbconvert_exporter": "python",
   "pygments_lexer": "ipython2",
   "version": "2.7.12"
  }
 },
 "nbformat": 4,
 "nbformat_minor": 2
}
