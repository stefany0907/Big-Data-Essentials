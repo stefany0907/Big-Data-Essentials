{
 "cells": [
  {
   "cell_type": "markdown",
   "metadata": {},
   "source": [
    "# Hadoop Streaming assignment 4: Word Groups"
   ]
  },
  {
   "cell_type": "markdown",
   "metadata": {},
   "source": [
    "Calculate statistics for groups of words which are equal up to permutations of letters. For example, ‘emit’, ‘item’ and ‘time’ are the same words up to a permutation of letters. Determine such groups of words and sum all their counts. Apply stop words filter. Filter out groups that consist of only one word.\n",
    "\n",
    "Output: count of occurrences for the group of words, number of unique words in the group, comma-separated list of the words in the group in lexicographical order:\n",
    "\n",
    "    sum <tab> group size <tab> word1,word2,...\n",
    "\n",
    "Example: assume ‘emit’ occurred 3 times, 'item' -- 2 times, 'time' -- 5 times; 3 + 2 + 5 = 10, group contains 3 words, so for this group result is:\n",
    "\n",
    "    10 3 emit,item,time\n",
    "\n",
    "The result of the task is the output line with word ‘english’.\n",
    "\n",
    "The result on the sample dataset:\n",
    "\n",
    "    \n",
    "`7823    eghilns 5   english,helsing,hesling,shengli,shingle`\n",
    "    \n",
    "NB: Do not forget about the lexicographical order of words in the group: 'emit,item,time' is OK, 'emit,time,item' is not."
   ]
  },
  {
   "cell_type": "code",
   "execution_count": 1,
   "metadata": {},
   "outputs": [],
   "source": [
    "%config IPCompleter.greedy=True"
   ]
  },
  {
   "cell_type": "markdown",
   "metadata": {},
   "source": [
    "## Step 1. Create the 1st mapper and reducer"
   ]
  },
  {
   "cell_type": "code",
   "execution_count": 2,
   "metadata": {},
   "outputs": [
    {
     "name": "stdout",
     "output_type": "stream",
     "text": [
      "Writing mapper1.py\n"
     ]
    }
   ],
   "source": [
    "%%writefile mapper1.py\n",
    "\n",
    "import sys\n",
    "import re\n",
    "\n",
    "reload(sys)\n",
    "sys.setdefaultencoding('utf-8')  # required to convert to unicode\n",
    "\n",
    "path = 'stop_words_en.txt'\n",
    "\n",
    "# Your code for reading stop words here\n",
    "with open(path, \"r\") as f:\n",
    "    stop_words = f.read().split('\\n')\n",
    "\n",
    "for line in sys.stdin:\n",
    "    try:\n",
    "        article_id, text = unicode(line.strip()).split('\\t', 1)\n",
    "    except ValueError as e:\n",
    "        continue\n",
    "\n",
    "    words = re.split(\"\\W*\\s+\\W*\", text, flags=re.UNICODE)\n",
    "    words = [word for word in words if (word not in stop_words) and word.isalpha()]\n",
    "    # Your code for mapper here.\n",
    "    for word in words:\n",
    "        print >> sys.stderr, \"reporter:counter:Wiki stats,Total words,%d\" % 1\n",
    "        print \"%s\\t%d\" % (word.lower(), 1)\n"
   ]
  },
  {
   "cell_type": "code",
   "execution_count": 3,
   "metadata": {},
   "outputs": [
    {
     "name": "stdout",
     "output_type": "stream",
     "text": [
      "Writing reducer1.py\n"
     ]
    }
   ],
   "source": [
    "%%writefile reducer1.py\n",
    "\n",
    "# Your code for reducer here.\n",
    "import sys\n",
    "\n",
    "current_key = None\n",
    "total_words = 0\n",
    "\n",
    "for line in sys.stdin:\n",
    "    try:\n",
    "        key, count = line.strip().split('\\t', 1)\n",
    "        count = int(count)\n",
    "    except ValueError as e:\n",
    "        continue\n",
    "    if key != current_key:\n",
    "        if current_key:\n",
    "            print(\"{0}\\t{1}\".format(current_key, total_words))\n",
    "        total_words = 0\n",
    "        current_key = key\n",
    "    total_words += count\n",
    "if current_key:\n",
    "    print(\"{0}\\t{1}\".format(current_key, total_words))"
   ]
  },
  {
   "cell_type": "markdown",
   "metadata": {},
   "source": [
    "## Step 2. Create the 2nd mapper and reducer"
   ]
  },
  {
   "cell_type": "code",
   "execution_count": 4,
   "metadata": {},
   "outputs": [
    {
     "name": "stdout",
     "output_type": "stream",
     "text": [
      "Writing mapper2.py\n"
     ]
    }
   ],
   "source": [
    "%%writefile mapper2.py\n",
    "\n",
    "import sys\n",
    "\n",
    "current_key = None\n",
    "sorted_key = None\n",
    "total_words = 0\n",
    "\n",
    "for line in sys.stdin:\n",
    "    try:\n",
    "        key, count = line.strip().split('\\t', 1)\n",
    "        count = int(count)\n",
    "    except ValueError as e:\n",
    "        continue\n",
    "    \n",
    "    if key != current_key:\n",
    "        if current_key:\n",
    "            print(\"{0}\\t{1}\\t{2}\".format(sorted_key, current_key, total_words))\n",
    "        total_words = 0\n",
    "        current_key = key\n",
    "        # .join(['a','e','l','p','p'])\n",
    "        sorted_key = \"\".join(sorted(current_key))\n",
    "    total_words += count\n",
    "    \n",
    "if current_key:\n",
    "    print(\"{0}\\t{1}\\t{2}\".format(sorted_key, current_key, total_words))        "
   ]
  },
  {
   "cell_type": "code",
   "execution_count": 5,
   "metadata": {},
   "outputs": [
    {
     "name": "stdout",
     "output_type": "stream",
     "text": [
      "Writing reducer2.py\n"
     ]
    }
   ],
   "source": [
    "%%writefile reducer2.py\n",
    "\n",
    "import sys\n",
    "\n",
    "word_set = ()\n",
    "current_key = None\n",
    "total_words = 0\n",
    "\n",
    "for line in sys.stdin:\n",
    "    try:\n",
    "        sorted_key, key, count = line.strip().split('\\t', 2)\n",
    "        count = int(count)\n",
    "    except ValueError as e:\n",
    "        continue\n",
    "    if current_key != sorted_key:\n",
    "        if current_key:\n",
    "            #7823    eghilns 5   english,helsing,hesling,shengli,shingle\n",
    "            print(\"{0}\\t{1}\\t{2}\\t{3}\".format(total_words, current_key, len(word_set), \",\".join(sorted(word_set))))\n",
    "            \n",
    "        total_words = 0\n",
    "        current_key = sorted_key\n",
    "        word_set = ()\n",
    "        \n",
    "    word_set.add(key)\n",
    "    total_words += count\n",
    "    \n",
    "if current_key:\n",
    "    print(\"{0}\\t{1}\\t{2}\\t{3}\".format(total_words, current_key, len(word_set), \",\".join(sorted(word_set))))"
   ]
  },
  {
   "cell_type": "markdown",
   "metadata": {},
   "source": [
    "## Step 3. Bash command"
   ]
  },
  {
   "cell_type": "markdown",
   "metadata": {},
   "source": [
    "Hint: For printing the exact row you may use basic UNIX commands. For instance, sed/head/tail/... (if you know other commands, you can use them).\n",
    "\n",
    "To run both jobs, you must use two consecutive yarn-commands. Remember that the input for the second job is the ouput for the first job."
   ]
  },
  {
   "cell_type": "code",
   "execution_count": 6,
   "metadata": {},
   "outputs": [
    {
     "name": "stderr",
     "output_type": "stream",
     "text": [
      "bash: line 7: yarn: command not found\n",
      "bash: line 18: yarn: command not found\n",
      "bash: line 27: hdfs: command not found\n",
      "bash: line 29: hdfs: command not found\n",
      "bash: line 30: hdfs: command not found\n"
     ]
    }
   ],
   "source": [
    "%%bash\n",
    "\n",
    "OUT_DIR_1=\"assignment4_1_\"$(date +\"%s%6N\")\n",
    "OUT_DIR_2=\"assignment4_2_\"$(date +\"%s%6N\")\n",
    "NUM_REDUCERS=4\n",
    "\n",
    "# Code for your first job\n",
    "yarn jar /opt/cloudera/parcels/CDH/lib/hadoop-mapreduce/hadoop-streaming.jar \\\n",
    "    -files mapper1.py,reducer1.py,/datasets/stop_words_en.txt \\\n",
    "    -mapper 'python mapper1.py' \\\n",
    "    -combiner 'python reducer1.py' \\\n",
    "    -reducer 'python reducer1.py' \\\n",
    "    -numReduceTasks ${NUM_REDUCERS} \\\n",
    "    -input /data/wiki/en_articles_part \\\n",
    "    -output ${OUT_DIR_1} > /dev/null\n",
    "\n",
    "\n",
    "# Code for your second job\n",
    "yarn jar /opt/cloudera/parcels/CDH/lib/hadoop-mapreduce/hadoop-streaming.jar \\\n",
    "    -files mapper2.py,reducer2.py \\\n",
    "    -mapper 'python mapper2.py' \\\n",
    "    -reducer 'python reducer2.py' \\\n",
    "    -numReduceTasks 1 \\\n",
    "    -input ${OUT_DIR_1} \\\n",
    "    -output ${OUT_DIR_2} > /dev/null\n",
    "\n",
    "# Code for obtaining the results\n",
    "hdfs dfs -cat ${OUT_DIR_2}/part-00000 | grep \"english,\"\n",
    "\n",
    "hdfs dfs -rm -r -skipTrash ${OUT_DIR_1}* > /dev/null\n",
    "hdfs dfs -rm -r -skipTrash ${OUT_DIR_2}* > /dev/null"
   ]
  },
  {
   "cell_type": "code",
   "execution_count": null,
   "metadata": {},
   "outputs": [],
   "source": []
  },
  {
   "cell_type": "code",
   "execution_count": null,
   "metadata": {},
   "outputs": [],
   "source": []
  }
 ],
 "metadata": {
  "kernelspec": {
   "display_name": "Python 2",
   "language": "python",
   "name": "python2"
  },
  "language_info": {
   "codemirror_mode": {
    "name": "ipython",
    "version": 2
   },
   "file_extension": ".py",
   "mimetype": "text/x-python",
   "name": "python",
   "nbconvert_exporter": "python",
   "pygments_lexer": "ipython2",
   "version": "2.7.15"
  }
 },
 "nbformat": 4,
 "nbformat_minor": 2
}
