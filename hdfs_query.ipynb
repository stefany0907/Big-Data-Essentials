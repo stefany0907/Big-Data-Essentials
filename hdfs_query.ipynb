{
 "cells": [
  {
   "cell_type": "code",
   "execution_count": 5,
   "metadata": {},
   "outputs": [],
   "source": [
    "! hdfs dfs -ls /user/jovyan/"
   ]
  },
  {
   "cell_type": "code",
   "execution_count": 3,
   "metadata": {},
   "outputs": [
    {
     "name": "stdout",
     "output_type": "stream",
     "text": [
      "Found 1 items\r\n",
      "drwxrwxrwx   - jovyan supergroup          0 2018-08-01 17:15 /data/wiki/en_articles_part\r\n"
     ]
    }
   ],
   "source": [
    "! hdfs dfs -ls /data/wiki"
   ]
  },
  {
   "cell_type": "code",
   "execution_count": 6,
   "metadata": {},
   "outputs": [
    {
     "name": "stdout",
     "output_type": "stream",
     "text": [
      "Found 1 items\r\n",
      "-rw-r--r--   1 jovyan supergroup       1914 2018-08-01 17:15 /datasets/stop_words_en.txt\r\n"
     ]
    }
   ],
   "source": [
    "! hdfs dfs -ls /datasets/"
   ]
  },
  {
   "cell_type": "code",
   "execution_count": 14,
   "metadata": {},
   "outputs": [
    {
     "name": "stdout",
     "output_type": "stream",
     "text": [
      "a\r\n",
      "about\r\n",
      "above\r\n",
      "across\r\n",
      "after\r\n",
      "afterwards\r\n",
      "again\r\n",
      "against\r\n",
      "all\r\n",
      "almost\r\n"
     ]
    }
   ],
   "source": [
    "! hdfs dfs -cat /datasets/stop_words_en.txt | head"
   ]
  },
  {
   "cell_type": "code",
   "execution_count": 15,
   "metadata": {},
   "outputs": [
    {
     "name": "stdout",
     "output_type": "stream",
     "text": [
      "erson, An Outline of General Ethics, Rome, Urbaniana University Press, 2004. John Paul II, Encyclical Letter Veritatis Splendor, 6-8-1993. D'Urance, Michel, Jalons pour une éthique rebelle, Aléthéia, Paris, 2005. John Newton, Ph.D. Complete Conduct Principles for the 21st Century, 2000. ISBN 0967370574. External links                  An Introduction to Ethics by Paul Newall, aimed at beginners. Ethics, 2d ed., 1973. by William Frankena Ethics Bites, Open University podcast series podcast exploring ethical dilemmas in everyday life. National Reference Center for Bioethics Literature World's largest library for ethical issues in medicine and biomedical research Ethics entry in Encyclopædia Britannica by Peter Singer The Philosophy of Ethics on Philosophy Archive Kirby Laing Institute for Christian Ethics Resources, events, and research on a range of ethical subjects from a Christian perspective. International Association for Geoethics (IAGETH) International Association for Promoting Geoethics (IAPG)      \r\n"
     ]
    }
   ],
   "source": [
    "! hdfs dfs -tail /data/wiki/en_articles_part/articles-part "
   ]
  },
  {
   "cell_type": "code",
   "execution_count": 17,
   "metadata": {},
   "outputs": [],
   "source": [
    "%%bash\n",
    "#cat -n /data/wiki/en_articles_part/articles-part | tr ' ' '\\n' | sort | uniq -c"
   ]
  },
  {
   "cell_type": "code",
   "execution_count": null,
   "metadata": {},
   "outputs": [],
   "source": []
  }
 ],
 "metadata": {
  "kernelspec": {
   "display_name": "Python 2",
   "language": "python",
   "name": "python2"
  },
  "language_info": {
   "codemirror_mode": {
    "name": "ipython",
    "version": 2
   },
   "file_extension": ".py",
   "mimetype": "text/x-python",
   "name": "python",
   "nbconvert_exporter": "python",
   "pygments_lexer": "ipython2",
   "version": "2.7.12"
  }
 },
 "nbformat": 4,
 "nbformat_minor": 2
}
